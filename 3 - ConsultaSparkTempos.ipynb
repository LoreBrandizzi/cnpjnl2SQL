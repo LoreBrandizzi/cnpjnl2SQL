{
 "cells": [
  {
   "cell_type": "code",
   "execution_count": null,
   "id": "33584d00",
   "metadata": {},
   "outputs": [],
   "source": [
    "from pyspark.sql import SparkSession\n",
    "from pyspark.sql.types import StructType, StructField, StringType, DoubleType\n",
    "from pyspark.sql.functions import to_date, when\n",
    "from pyspark.sql.functions import regexp_replace, col\n",
    "import time\n",
    "import pandas as pd\n",
    "\n"
   ]
  },
  {
   "cell_type": "code",
   "execution_count": null,
   "id": "deeabc43",
   "metadata": {},
   "outputs": [],
   "source": [
    "if 'spark3' in locals():\n",
    "    spark3.stop()"
   ]
  },
  {
   "cell_type": "code",
   "execution_count": null,
   "id": "7fd4de6d",
   "metadata": {},
   "outputs": [],
   "source": [
    "# Iniciar uma nova sessão Spark\n",
    "spark2 = SparkSession.builder.appName(\"CNPJ\").getOrCreate()"
   ]
  },
  {
   "cell_type": "code",
   "execution_count": null,
   "id": "6c054179",
   "metadata": {},
   "outputs": [],
   "source": [
    "# Encerre a sessão existente, se houver\n",
    "if 'spark' in locals():\n",
    "    spark.stop()"
   ]
  },
  {
   "cell_type": "code",
   "execution_count": null,
   "id": "ed2cdbcd",
   "metadata": {},
   "outputs": [],
   "source": [
    "# Define o caminho base para os dados\n",
    "caminho = \"gs://dataproc-staging-us-central1-574457499229-8awbbdyx/notebooks/jupyter/DADOS/DadosProcessados/\"\n",
    "\n",
    "# Função para carregar e cachear as tabelas\n",
    "def carregar_tabela(nome_tabela):\n",
    "    arquivo = caminho + f\"{nome_tabela}.csv\"\n",
    "    df = spark2.read.csv(arquivo, header=True, inferSchema=True, sep=\";\")\n",
    "    df.createOrReplaceTempView(nome_tabela)\n",
    "    spark2.sql(f\"CACHE TABLE {nome_tabela}\")"
   ]
  },
  {
   "cell_type": "code",
   "execution_count": null,
   "id": "fe0b67e3",
   "metadata": {},
   "outputs": [],
   "source": [
    "# Carregar e cachear as tabelas\n",
    "tabelas = [\"EMPRESAS\", \"ESTABELECIMENTOS\", \"CNAES\", \"SOCIOS\", \"SIMPLES\"]\n",
    "for tabela in tabelas:\n",
    "    carregar_tabela(tabela)"
   ]
  },
  {
   "cell_type": "code",
   "execution_count": null,
   "id": "df8ac6eb",
   "metadata": {},
   "outputs": [],
   "source": [
    "# Verificar se as tabelas estão em cache\n",
    "for tabela in tabelas:\n",
    "    cache_status = spark2.catalog.isCached(tabela)\n",
    "    print(f\"Tabela {tabela} está em cache: {cache_status}\")"
   ]
  },
  {
   "cell_type": "code",
   "execution_count": null,
   "id": "42c22ce2",
   "metadata": {},
   "outputs": [],
   "source": [
    "# Exemplo de consultas SQL em todas as tabelas\n",
    "result_empresas = spark2.sql(\"SELECT COUNT(*) FROM EMPRESAS\").collect()\n",
    "result_estabelecimentos = spark2.sql(\"SELECT COUNT(*) FROM ESTABELECIMENTOS\").collect()\n",
    "result_cnaes = spark2.sql(\"SELECT COUNT(*) FROM CNAES\").collect()\n",
    "result_socios = spark2.sql(\"SELECT COUNT(*) FROM SOCIOS\").collect()\n",
    "result_simples = spark2.sql(\"SELECT COUNT(*) FROM SIMPLES\").collect()\n",
    "\n",
    "# Imprimir todos os resultados juntos\n",
    "print(\"Count Results:\")\n",
    "print(f\"Empresas: {result_empresas[0][0] if result_empresas else 'N/A'}\")\n",
    "print(f\"Estabelecimentos: {result_estabelecimentos[0][0] if result_estabelecimentos else 'N/A'}\")\n",
    "print(f\"CNAEs: {result_cnaes[0][0] if result_cnaes else 'N/A'}\")\n",
    "print(f\"Socios: {result_socios[0][0] if result_socios else 'N/A'}\")\n",
    "print(f\"Simples: {result_simples[0][0] if result_simples else 'N/A'}\")"
   ]
  },
  {
   "cell_type": "markdown",
   "id": "5952a8dc",
   "metadata": {},
   "source": [
    "Count Results:\n",
    "Empresas: 57963081\n",
    "Estabelecimentos: 60944825\n",
    "CNAEs: 1359\n",
    "Socios: 24251230\n",
    "Simples: 39373015"
   ]
  },
  {
   "cell_type": "code",
   "execution_count": null,
   "id": "368f0058",
   "metadata": {},
   "outputs": [],
   "source": [
    "spark2.sql(\"SELECT COUNT(*) FROM EMPRESAS e JOIN SOCIOS s ON e.cnpjbasico = s.cnpjbasico JOIN ESTABELECIMENTOS est ON e.cnpjbasico = est.cnpjbasico WHERE e.capitalsocial BETWEEN 20000000 AND 50000000 AND UPPER(s.qualificacaosocio) = 'SÓCIO-GERENTE' AND UPPER(s.pais) != 'BRASIL' GROUP BY e.razaosocial HAVING COUNT(s.cnpjbasico) < 3 AND COUNT(DISTINCT est.municipio) >= 2;\").show()"
   ]
  },
  {
   "cell_type": "code",
   "execution_count": null,
   "id": "b00d3181",
   "metadata": {},
   "outputs": [],
   "source": [
    "import re\n",
    "# Ler o arquivo CSV\n",
    "df_queries = pd.read_csv('gs://dataproc-staging-us-central1-574457499229-8awbbdyx/notebooks/jupyter/cnpjnl2sql/queries/queries.csv')\n",
    "\n",
    "# Função para ajustar a query\n",
    "def adjust_query(query):\n",
    "    adjusted_query = re.sub(r'\\\"public\\\"\\.\\\"(\\w+)\\\"', r'\\1', query)\n",
    "    adjusted_query = re.sub(r'public\\.\\\"(\\w+)\\\"', r'\\1', adjusted_query)\n",
    "    return adjusted_query\n",
    "\n",
    "# Criar a nova coluna spark_query\n",
    "df_queries['spark_query'] = df_queries['postgres_query'].apply(adjust_query)"
   ]
  },
  {
   "cell_type": "code",
   "execution_count": null,
   "id": "d738c9a2",
   "metadata": {},
   "outputs": [],
   "source": [
    "df_queries"
   ]
  },
  {
   "cell_type": "code",
   "execution_count": null,
   "id": "2dcc253e",
   "metadata": {},
   "outputs": [],
   "source": [
    "# Inicializar as listas para armazenar os resultados e os tempos de execução do Spark\n",
    "results = []\n",
    "execution_times = []\n",
    "ind=0\n",
    "# Realizar as consultas na sessão spark2\n",
    "for index, row in df_queries.iterrows():\n",
    "    try:\n",
    "        start_time = time.time()\n",
    "        query = row['spark_query']\n",
    "        result = spark2.sql(query).collect()\n",
    "        end_time = time.time()\n",
    "        \n",
    "        execution_times.append(end_time - start_time)\n",
    "        \n",
    "        # Armazenar apenas o número dos resultados\n",
    "        if result:\n",
    "            results.append(result[0][0] if result else None)\n",
    "            ind += 1\n",
    "            print(str(ind) + \"-\")\n",
    "            print(query+\"-\")\n",
    "            print(result[0][0] if result else None)\n",
    "        else:\n",
    "            results.append(None)\n",
    "    except Exception as e:\n",
    "        print(f\"Error executing query for row {index}: {e}\")\n",
    "        results.append(None)\n",
    "        execution_times.append(None)\n",
    "\n",
    "# Adicionar os resultados e os tempos de execução ao DataFrame\n",
    "df_queries['spark_query_result'] = results\n",
    "df_queries['spark_query_exec_time'] = execution_times\n"
   ]
  },
  {
   "cell_type": "code",
   "execution_count": null,
   "id": "20893a73",
   "metadata": {},
   "outputs": [],
   "source": [
    "# Salvar o DataFrame atualizado de volta para um arquivo CSV\n",
    "df_queries.to_csv('gs://dataproc-staging-us-central1-574457499229-8awbbdyx/notebooks/jupyter/cnpjnl2sql/queries/queries_results_spark.csv', index=False)\n",
    "\n"
   ]
  },
  {
   "cell_type": "code",
   "execution_count": null,
   "id": "b4e02f1b",
   "metadata": {},
   "outputs": [],
   "source": [
    "# Adicionar os resultados e os tempos de execução ao DataFrame\n",
    "df_queries['spark_query_result'] = results\n",
    "df_queries['spark_query_exec_time'] = execution_times"
   ]
  },
  {
   "cell_type": "code",
   "execution_count": null,
   "id": "e47e19e4",
   "metadata": {},
   "outputs": [],
   "source": [
    "df_queries"
   ]
  },
  {
   "cell_type": "code",
   "execution_count": null,
   "id": "aaff0b80",
   "metadata": {},
   "outputs": [],
   "source": [
    "# Exibir o DataFrame atualizado para verificar os resultados\n",
    "pd.set_option('display.max_rows', None)\n",
    "df_queries"
   ]
  },
  {
   "cell_type": "code",
   "execution_count": null,
   "id": "5826392c",
   "metadata": {},
   "outputs": [],
   "source": []
  }
 ],
 "metadata": {
  "kernelspec": {
   "display_name": "Python 3 (ipykernel)",
   "language": "python",
   "name": "python3"
  },
  "language_info": {
   "codemirror_mode": {
    "name": "ipython",
    "version": 3
   },
   "file_extension": ".py",
   "mimetype": "text/x-python",
   "name": "python",
   "nbconvert_exporter": "python",
   "pygments_lexer": "ipython3",
   "version": "3.11.5"
  }
 },
 "nbformat": 4,
 "nbformat_minor": 5
}
