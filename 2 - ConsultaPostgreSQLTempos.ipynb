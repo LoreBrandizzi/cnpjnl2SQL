{
 "cells": [
  {
   "cell_type": "code",
   "execution_count": null,
   "id": "cb3b02f1",
   "metadata": {},
   "outputs": [],
   "source": [
    "import pandas as pd\n",
    "import csv\n",
    "import re\n",
    "import time"
   ]
  },
  {
   "cell_type": "code",
   "execution_count": null,
   "id": "a1f19eb6",
   "metadata": {},
   "outputs": [],
   "source": [
    "import psycopg2\n",
    "from sqlalchemy import create_engine, text"
   ]
  },
  {
   "cell_type": "code",
   "execution_count": null,
   "id": "ca3c6982",
   "metadata": {},
   "outputs": [],
   "source": [
    "db_user = \"postgres\"\n",
    "db_password = \"\"\n",
    "db_host = \"\"\n",
    "db_name = \"postgres\"\n",
    "db_schema = \"public\"\n",
    "\n",
    "#Conectando ao POstgreSQL para retornar a modelagem de dados.\n",
    "connection_string = f\"postgresql+psycopg2://{db_user}:{db_password}@{db_host}/{db_name}\"\n",
    "\n",
    "# Create an engine instance\n",
    "engine = create_engine(connection_string)"
   ]
  },
  {
   "cell_type": "code",
   "execution_count": null,
   "id": "597dd2dd",
   "metadata": {},
   "outputs": [],
   "source": [
    "\n",
    "# Consulta SQL para testar a conexão\n",
    "test_query = text('SELECT count(*) from \"public\".\"CNAE\"')\n",
    "with engine.connect() as connection:\n",
    "    result = connection.execute(test_query).scalar()\n",
    "    print(f\"Test query result: {result}\")\n"
   ]
  },
  {
   "cell_type": "code",
   "execution_count": null,
   "id": "68268860",
   "metadata": {},
   "outputs": [],
   "source": [
    "# Carregar o arquivo CSV\n",
    "df = pd.read_csv('gs://dataproc-staging-us-central1-574457499229-8awbbdyx/notebooks/jupyter/cnpjnl2sql/queries/queries.csv')\n"
   ]
  },
  {
   "cell_type": "code",
   "execution_count": null,
   "id": "e0b7c196",
   "metadata": {},
   "outputs": [],
   "source": [
    "# Adicionar colunas para resultados e tempo de execução\n",
    "df['qtd_postgres'] = None\n",
    "df['execution_time'] = None\n",
    "\n",
    "# Executar consultas e armazenar resultados\n",
    "for index, row in df.iterrows():\n",
    "    query = row['postgres_query']\n",
    "    print(f\"Executing query on line {index + 1}: {query}\")\n",
    "    try:\n",
    "        start_time = time.time()\n",
    "        with engine.connect() as connection:\n",
    "            result = connection.execute(text(query)).scalar()\n",
    "        execution_time = time.time() - start_time\n",
    "        df.at[index, 'qtd_postgres'] = result\n",
    "        df.at[index, 'execution_time'] = execution_time\n",
    "        print(f\"Result: {result}, Execution Time: {execution_time} seconds\")\n",
    "    except Exception as e:\n",
    "        df.at[index, 'qtd_postgres'] = str(e)\n",
    "        df.at[index, 'execution_time'] = None\n",
    "        print(f\"Error on line {index + 1}: {e}\")\n",
    "\n",
    "# Salvar os resultados em um novo arquivo CSV\n",
    "output_csv_path = \"queries_results_postgres.csv\"\n",
    "df.to_csv(output_csv_path, index=False)\n",
    "\n",
    "# Fechar o mecanismo de conexão (opcional, mas recomendado)\n",
    "engine.dispose()"
   ]
  },
  {
   "cell_type": "code",
   "execution_count": null,
   "id": "1e79d6a8",
   "metadata": {},
   "outputs": [],
   "source": [
    "df_queries.to_csv('gs://dataproc-staging-us-central1-574457499229-8awbbdyx/notebooks/jupyter/cnpjnl2sql/queries/queries_results_postgresql.csv', index=False)"
   ]
  }
 ],
 "metadata": {
  "kernelspec": {
   "display_name": "Python 3 (ipykernel)",
   "language": "python",
   "name": "python3"
  },
  "language_info": {
   "codemirror_mode": {
    "name": "ipython",
    "version": 3
   },
   "file_extension": ".py",
   "mimetype": "text/x-python",
   "name": "python",
   "nbconvert_exporter": "python",
   "pygments_lexer": "ipython3",
   "version": "3.11.5"
  }
 },
 "nbformat": 4,
 "nbformat_minor": 5
}
