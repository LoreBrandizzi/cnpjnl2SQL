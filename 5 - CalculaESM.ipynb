{
 "cells": [
  {
   "cell_type": "code",
   "execution_count": null,
   "id": "49f0d5a7",
   "metadata": {},
   "outputs": [],
   "source": [
    "import pandas as pd\n",
    "\n",
    "\n",
    "queries = pd.read_csv('queries/queries_with_spark_llama_gpt.csv')\n"
   ]
  },
  {
   "cell_type": "code",
   "execution_count": null,
   "id": "a4c23712",
   "metadata": {},
   "outputs": [],
   "source": [
    "# Calcular a quantidade de False por difficulty\n",
    "counts = queries['difficulty'].value_counts()\n",
    "# Criar um DataFrame com os resultados\n",
    "counts = counts.reset_index()\n",
    "counts.columns = ['Nível de Dificuldade', 'Quantidade de queries']"
   ]
  },
  {
   "cell_type": "code",
   "execution_count": null,
   "id": "68352a01",
   "metadata": {},
   "outputs": [],
   "source": [
    "counts"
   ]
  },
  {
   "cell_type": "code",
   "execution_count": null,
   "id": "8d2630b2",
   "metadata": {},
   "outputs": [],
   "source": [
    "import re\n",
    "\n",
    "# Função para eliminar os textos especificados de uma frase\n",
    "def eliminar_textos_longos(frase):\n",
    "    # Textos a serem eliminados\n",
    "    textos_a_eliminar = [\n",
    "        \"TOTAL_SOCIOS ELIMINAR\",\n",
    "        \"TOTAL_SOCIOS_COM_PAIS\",\n",
    "        \"TOTAL_SOCIOS_DIRETOR\",\n",
    "        \"TOTAL_SOCIOS_PRESIDENTE\",\n",
    "        \"TOTAL_SOCIOS_QUALIFICADOS\",\n",
    "        \"TOTAL_SOCIOS\",\n",
    "        \"TOTAL_EMPRESAS\",\n",
    "        \"QTD_SOCIOS\",  \n",
    "        \"TOTAL_ESTABELECIMENTOS\",\n",
    "        \"_ADMINISTRADORES\",\n",
    "        \"_COM_NOME\",\n",
    "        \"_FAIXA_ETARIA\",        \n",
    "        \"SELECT\",\n",
    "        '\\\"PUBLIC\\\"',\n",
    "        'PUBLIC',\n",
    "        \"UPPER\",\n",
    "        \"TOTAL\"\n",
    "    ]\n",
    "    \n",
    "    # Eliminar os textos da frase\n",
    "    for texto in textos_a_eliminar:\n",
    "        frase = frase.replace(texto, \"\")\n",
    "\n",
    "    \n",
    "    return frase\n",
    "\n",
    "def eliminar_textos_curtos(frase):\n",
    "    # Textos a serem eliminados\n",
    "    textos_a_eliminar = [\n",
    "        \" AS \", \";\", \" EM \", '\"',\"'\",\" EST \",\" S \",\" SIM \",\" EMP \",\" E \",\")\",\"(\"\n",
    "    ]\n",
    "    \n",
    "    # Eliminar os textos da frase\n",
    "    for texto in textos_a_eliminar:\n",
    "        frase = frase.replace(texto, \" \")\n",
    "        \n",
    "    return frase\n",
    "\n",
    "def substituir_espaco(frase):\n",
    "    # Textos a serem eliminados\n",
    "    textos_a_eliminar = [\n",
    "        \"(EM.\", \"(EST.\",\"(S.\",\"(SIM.\",\"(EMP.\",\"(E.\",\"EM.\", \"EST.\",\"S.\",\"SIM.\",\"EMP.\",\"E.\",\" .\"\n",
    "    ]\n",
    "    \n",
    "    # Eliminar os textos da frase\n",
    "    for texto in textos_a_eliminar:\n",
    "        frase = frase.replace(texto, \" \")\n",
    "        \n",
    "    return frase\n"
   ]
  },
  {
   "cell_type": "code",
   "execution_count": null,
   "id": "455a84ba",
   "metadata": {},
   "outputs": [],
   "source": [
    "import re\n",
    "\n",
    "def preprocessa_query(querie):\n",
    "    # Converte a consulta para letras maiúsculas\n",
    "    querie = querie.upper()\n",
    "    querie= querie.replace(\"'SIM'\", \"'POSITIVO'\")\n",
    "    querie= querie.replace(\"DATE_PART('YEAR',\", \"EXTRACT(YEAR FROM\")\n",
    "    querie= querie.replace(\"<>\", \"!=\")\n",
    "    querie = eliminar_textos_longos(querie)\n",
    "    querie = eliminar_textos_curtos(querie)\n",
    "    querie = substituir_espaco(querie)\n",
    "\n",
    "    # Divide a consulta em palavras\n",
    "    querie = querie.split()\n",
    "    return querie\n"
   ]
  },
  {
   "cell_type": "code",
   "execution_count": null,
   "id": "edbac3c5",
   "metadata": {},
   "outputs": [],
   "source": [
    "# Função para percorrer o DataFrame e comparar as consultas\n",
    "def process_and_compare_queries(df):\n",
    "    gold_querie = []\n",
    "    generated_querie = []\n",
    "    comparison_results = []\n",
    "\n",
    "    for index, row in df.iterrows():\n",
    "        gold = preprocessa_query(row['postgres_query'])\n",
    "        generated = preprocessa_query(row['query_llamma_GPT'])\n",
    "        \n",
    "        gold_querie.append(gold)\n",
    "        generated_querie.append(generated)\n",
    "        \n",
    "        # Comparar os vetores independentemente da ordem\n",
    "        if sorted(gold) == sorted(generated):\n",
    "            comparison_results.append(True)\n",
    "        else:\n",
    "            comparison_results.append(False)\n",
    "    \n",
    "    df['gold_querie'] = gold_querie\n",
    "    df['generated_querie'] = generated_querie\n",
    "    df['comparison_results'] = comparison_results\n",
    "\n",
    "    return df\n",
    "\n",
    "queries = process_and_compare_queries(queries)"
   ]
  },
  {
   "cell_type": "code",
   "execution_count": null,
   "id": "445c4d76",
   "metadata": {},
   "outputs": [],
   "source": [
    "pd.set_option('display.max_rows', None)\n",
    "pd.set_option('display.max_columns', None)\n",
    "pd.set_option('display.max_colwidth', None)\n",
    "pd.set_option('display.width', None)\n",
    "\n",
    "queries_true = queries[queries['comparison_results'] == True]\n",
    "\n",
    "# Display the filtered DataFram\n",
    "queries_true"
   ]
  },
  {
   "cell_type": "code",
   "execution_count": null,
   "id": "ae9b266e",
   "metadata": {},
   "outputs": [],
   "source": [
    "queries.to_csv('queries/queries_final.csv')"
   ]
  },
  {
   "cell_type": "code",
   "execution_count": null,
   "id": "05c4b174",
   "metadata": {},
   "outputs": [],
   "source": [
    "# Filtrar as colunas 'difficulty' e 'comparison_results'\n",
    "filtered_df = queries[['difficulty', 'comparison_results']]\n",
    "filtered_df = filtered_df[queries['difficulty'] != 'Extra Hard']\n",
    "\n",
    "# Calcular a quantidade de False por difficulty\n",
    "false_counts = filtered_df[filtered_df['comparison_results'] == False]['difficulty'].value_counts()\n",
    "true_counts = filtered_df[filtered_df['comparison_results'] == True]['difficulty'].value_counts()\n",
    "percent_true = (true_counts*100)/(true_counts+false_counts)\n",
    "\n",
    "# Criar um DataFrame com os resultados\n",
    "false_counts_df = false_counts.reset_index()\n",
    "false_counts_df.columns = ['difficulty', 'false_counts']\n",
    "\n",
    "# Exibir a tabela\n",
    "false_counts_df"
   ]
  },
  {
   "cell_type": "code",
   "execution_count": null,
   "id": "17ddb00d",
   "metadata": {},
   "outputs": [],
   "source": [
    "true_counts_df = true_counts.reset_index()\n",
    "true_counts_df.columns = ['difficulty', 'true_counts']\n",
    "true_counts"
   ]
  },
  {
   "cell_type": "code",
   "execution_count": null,
   "id": "13400dc2",
   "metadata": {},
   "outputs": [],
   "source": [
    "percent_true_counts_df = percent_true.reset_index()\n",
    "percent_true_counts_df.columns = ['difficulty', 'true_counts']\n",
    "percent_true"
   ]
  },
  {
   "cell_type": "code",
   "execution_count": null,
   "id": "858e4372",
   "metadata": {},
   "outputs": [],
   "source": [
    "# Filtrar as colunas 'difficulty' e 'comparison_results'\n",
    "filtered_df = queries[['explanation', 'comparison_results']]\n",
    "filtered_df = filtered_df[queries['explanation'] != 'Extra Hard']\n",
    "# Calcular a quantidade de False por difficulty\n",
    "false_counts = filtered_df[filtered_df['comparison_results'] == False]['explanation'].value_counts()\n",
    "true_counts = filtered_df[filtered_df['comparison_results'] == True]['explanation'].value_counts()\n",
    "true_counts_df = true_counts.reset_index()\n",
    "true_counts_df.columns = ['explanation', 'true_counts']\n",
    "true_counts"
   ]
  },
  {
   "cell_type": "code",
   "execution_count": null,
   "id": "f2f0e2d9",
   "metadata": {},
   "outputs": [],
   "source": [
    "# Criar um DataFrame com os resultados\n",
    "false_counts_df = false_counts.reset_index()\n",
    "false_counts_df.columns = ['difficulty', 'false_counts']\n",
    "\n",
    "# Exibir a tabela\n",
    "false_counts_df"
   ]
  },
  {
   "cell_type": "code",
   "execution_count": null,
   "id": "011bae89",
   "metadata": {},
   "outputs": [],
   "source": []
  }
 ],
 "metadata": {
  "kernelspec": {
   "display_name": "Python 3 (ipykernel)",
   "language": "python",
   "name": "python3"
  },
  "language_info": {
   "codemirror_mode": {
    "name": "ipython",
    "version": 3
   },
   "file_extension": ".py",
   "mimetype": "text/x-python",
   "name": "python",
   "nbconvert_exporter": "python",
   "pygments_lexer": "ipython3",
   "version": "3.11.5"
  }
 },
 "nbformat": 4,
 "nbformat_minor": 5
}
