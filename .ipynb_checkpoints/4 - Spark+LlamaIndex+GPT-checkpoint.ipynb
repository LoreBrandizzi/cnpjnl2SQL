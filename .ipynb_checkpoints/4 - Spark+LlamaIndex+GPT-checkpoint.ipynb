{
 "cells": [
  {
   "cell_type": "code",
   "execution_count": 1,
   "id": "38fccf48",
   "metadata": {},
   "outputs": [],
   "source": [
    "import logging\n",
    "import sys\n",
    "import llama_index\n",
    "import pandas as pd\n",
    "import time\n",
    "import psycopg2\n",
    "from sqlalchemy import create_engine, text\n",
    "import json\n",
    "pd.set_option('display.max_rows', 1000)\n",
    "pd.set_option('display.max_columns', 1000)"
   ]
  },
  {
   "cell_type": "code",
   "execution_count": null,
   "id": "88590177",
   "metadata": {},
   "outputs": [],
   "source": [
    "import pyspark\n",
    "from pyspark.sql import SparkSession\n",
    "# Inicializar a sessão Spark\n",
    "spark = SparkSession.builder.appName(\"CNPJ\").getOrCreate()"
   ]
  },
  {
   "cell_type": "code",
   "execution_count": null,
   "id": "fecdeb00",
   "metadata": {},
   "outputs": [],
   "source": [
    "!pip install pyspark"
   ]
  },
  {
   "cell_type": "code",
   "execution_count": 2,
   "id": "e04eb8b4",
   "metadata": {},
   "outputs": [],
   "source": [
    "#Funções para realizar limpezas nos dados retornados pela API\n",
    "def remove_newlines(query):\n",
    "    return query.replace('\\\\n', ' ')\n",
    "\n",
    "def remove_newlines2(query):\n",
    "    return query.replace('\\n', ' ')"
   ]
  },
  {
   "cell_type": "code",
   "execution_count": 3,
   "id": "58d537b5",
   "metadata": {},
   "outputs": [],
   "source": [
    "#Detalhes das tabelas\n",
    "table_details = {\n",
    "    \"ESTABELECIMENTOS\": (\n",
    "        \"Contém informações detalhadas sobre os estabelecimentos de empresas, categorizados como matrizes ou filiais. \"\n",
    "        \"Cada estabelecimento é identificado por um CNPJ único e registrado como MATRIZ (sede principal), FILIAL (unidade secundária) ou NÃO INFORMADO (quando a informação não está disponível). \"\n",
    "        \"A situação cadastral do estabelecimento pode ser NULA (sem atividade), ATIVA (operacional), SUSPENSA (atividades temporariamente cessadas), INAPTA (irregularidades fiscais), BAIXADA (encerrada) ou NÃO INFORMADO. \"\n",
    "        \"O campo CNAEFISCALPRINCIPAL descreve a atividade econômica principal, o texto do CNAE mesmo,conforme a tabela do CONCLA, padronizando a classificação das atividades empresariais.\"\n",
    "        \"Quando questionado se o CNAEFISCALPRINCIPAL é algum 'texto' use o comando LIKE com % % e não use o = \"\n",
    "    ),\n",
    "    \"SOCIOS\": (\n",
    "        \"Inclui informações sobre os sócios de empresas, que podem ser PESSOA JURÍDICA (outras empresas ou entidades legais), PESSOA FÍSICA (indivíduos), ESTRANGEIRO (sócios não residentes) ou NÃO INFORMADO. \"\n",
    "        \"Este campo ajuda a identificar a natureza da propriedade e gestão da empresa. \"\n",
    "        \"O campo FAIXAETARIA detalha a idade dos sócios, se pessoas físicas, categorizada em intervalos: 0-12, 13-20, 21-30, 31-40, 41-50, 51-60, 61-70, 71-80, e 81+ anos, permitindo análises demográficas dos investidores.\"\n",
    "    ),\n",
    "    \"SIMPLES\": (\n",
    "        \"Armazena informações sobre a adesão das empresas aos regimes tributários simplificados Simples Nacional ou MEI (Microempreendedor Individual). \"\n",
    "        \"Estes campos indicam se a empresa optou pelo regime com valores 'SIM' para adesão e 'NÃO' para não-adesão, simplificando o entendimento das obrigações fiscais da empresa.\"\n",
    "    ),\n",
    "    \"EMPRESAS\": (\n",
    "        \"Contém informações corporativas sobre cada empresa registrada, com um CNPJ básico como identificador principal. \"\n",
    "        \"Os dados incluem a razão social e o capital social, fundamental para entender a estrutura financeira da empresa. \"\n",
    "        \"O Campo cnpjbasico não se repete na tabela empresas\"\n",
    "        \"O PORTE DA EMPRESA é categorizado como MICRO EMPRESA, EMPRESA DE PEQUENO PORTE, DEMAIS (grandes empresas) ou NÃO INFORMADO, o que é crucial para a segmentação de mercado e análise econômica.\"\n",
    "    )\n",
    "}\n",
    "\n"
   ]
  },
  {
   "cell_type": "code",
   "execution_count": null,
   "id": "fad0452a",
   "metadata": {},
   "outputs": [],
   "source": [
    "import psycopg2\n",
    "from sqlalchemy import create_engine, text,inspect"
   ]
  },
  {
   "cell_type": "code",
   "execution_count": null,
   "id": "2dc110e7",
   "metadata": {},
   "outputs": [],
   "source": [
    "db_user = \"postgres\"\n",
    "db_password = \"admin\"\n",
    "db_host = \"localhost:5432\"\n",
    "db_name = \"CNPJNL2SQL\"\n",
    "db_schema = \"public\""
   ]
  },
  {
   "cell_type": "code",
   "execution_count": null,
   "id": "de2088b1",
   "metadata": {},
   "outputs": [],
   "source": [
    "#Conectando ao POstgreSQL para retornar a modelagem de dados.\n",
    "connection_string = f\"postgresql+psycopg2://{db_user}:{db_password}@{db_host}/{db_name}\"\n",
    "\n",
    "# Create an engine instance\n",
    "engine = create_engine(connection_string)"
   ]
  },
  {
   "cell_type": "code",
   "execution_count": null,
   "id": "4d7df148",
   "metadata": {},
   "outputs": [],
   "source": [
    "# Consulta SQL para testar a conexão\n",
    "# Consulta SQL para testar a conexão\n",
    "test_query = text('SELECT count(*) from \"public\".\"SIMPLES\"')\n",
    "with engine.connect() as connection:\n",
    "    result = connection.execute(test_query).scalar()\n",
    "    print(f\"Test query result: {result}\")\n"
   ]
  },
  {
   "cell_type": "code",
   "execution_count": null,
   "id": "aba04e81",
   "metadata": {},
   "outputs": [],
   "source": [
    "from llama_index.core import SQLDatabase\n",
    "\n",
    "sql_database = SQLDatabase(engine, sample_rows_in_table_info=2000)\n",
    "sql_database\n",
    "list(sql_database._all_tables)"
   ]
  },
  {
   "cell_type": "code",
   "execution_count": null,
   "id": "0d1eb6b8",
   "metadata": {},
   "outputs": [],
   "source": [
    "methods = dir(sql_database)\n",
    "print(methods)"
   ]
  },
  {
   "cell_type": "code",
   "execution_count": null,
   "id": "a128e174",
   "metadata": {},
   "outputs": [],
   "source": [
    "# Obtenha as colunas da tabela\n",
    "columns = sql_database.get_table_columns('ESTABELECIMENTOS')\n",
    "\n",
    "# Liste as colunas\n",
    "print(\"Colunas da tabela\", table_name, \":\")\n",
    "for column in columns:\n",
    "    print(column)"
   ]
  },
  {
   "cell_type": "code",
   "execution_count": null,
   "id": "862c4557",
   "metadata": {},
   "outputs": [],
   "source": [
    "import os\n",
    "import openai\n",
    "os.environ[\"OPENAI_API_KEY\"] = \"\"\n",
    "openai.api_key = os.environ[\"OPENAI_API_KEY\"]"
   ]
  },
  {
   "cell_type": "code",
   "execution_count": null,
   "id": "7721a568",
   "metadata": {},
   "outputs": [],
   "source": [
    "import tiktoken\n",
    "from llama_index.core.callbacks import CallbackManager, TokenCountingHandler\n",
    "from llama_index.llms.openai import OpenAI\n",
    "from llama_index.core import Settings, ServiceContext\n",
    "\n",
    "\n",
    "token_counter = TokenCountingHandler(\n",
    "    tokenizer=tiktoken.encoding_for_model(\"gpt-3.5-turbo\").encode\n",
    ")\n",
    "\n",
    "llm = OpenAI(model=\"gpt-3.5-turbo\", temperature=0.2)\n",
    "callback_manager = CallbackManager([token_counter])"
   ]
  },
  {
   "cell_type": "code",
   "execution_count": null,
   "id": "24f62f93",
   "metadata": {},
   "outputs": [],
   "source": [
    "from llama_index.core.indices.struct_store.sql_query import NLSQLTableQueryEngine"
   ]
  },
  {
   "cell_type": "code",
   "execution_count": null,
   "id": "7d84178a",
   "metadata": {},
   "outputs": [],
   "source": [
    "service_context = ServiceContext.from_defaults(\n",
    "  llm=llm,callback_manager=callback_manager\n",
    ")\n",
    "\n",
    "prompt = f\"\"\"\n",
    "        Atenção: Você está atuando apenas em modo de leitura e não deve modificar nenhum dado.\n",
    "        NÃO INVENTE DADOS. Se você não souber a resposta para uma pergunta, simplesmente diga \"Eu não sei\".\n",
    "        Para todas as consultas que envolvam texto, utilize UPPER(CAMPO) no WHERE em maiúsculo.\n",
    "        Utilize apenas as seguintes tabelas: EMPRESAS, ESTABELECIMENTOS, SOCIOS e SIMPLES.\n",
    "        Quando for questionado sobre um evento até algum ano ou após algum ano, extrair o ano da data e comparar.\n",
    "        **Detalhes das Tabelas:**\n",
    "        - EMPRESAS:\n",
    "            - O campo CNAE está em texto. Considere consulte o nome do CNAE em maiúsculo, com o UPPER no campo. Quando é perguntado se a empresa é de um setor, traduzir como se ela tem o setor no nome.\n",
    "            - O campo PORTE possui os seguintes valores: 'NÃO INFORMADO', 'MICRO EMPRESA', 'EMPRESA DE PEQUENO PORTE', 'DEMAIS'.\n",
    "        - ESTABELECIMENTOS:\n",
    "            - Dados de endereço (UF, Município, etc) estão na tabela ESTABELECIMETNOS, em maiúsculo.\n",
    "            - O campo IDENTIFICADORMATRIZFILIAL possui os valores: 'MATRIZ', 'FILIAL'.\n",
    "            - O campo SITUACAOCADASTRAL possui os valores: 'NULA', 'ATIVA', 'SUSPENSA', 'INAPTA', 'BAIXADA'.\n",
    "        - SOCIOS:\n",
    "            - O campo IDENTIFICADORSOCIO pode ser: 'PESSOA JURÍDICA', 'PESSOA FÍSICA', 'ESTRANGEIRO'.\n",
    "            - O campo que identifica o sócio de forma unívoca a ser considerado é o nomesociorazaosocial.\n",
    "            - O campo PAIS contém os nomes dos países em maiúsculo.\n",
    "            - O campo FAIXAETARIA possui os valores: '0-12', '13-20', '21-30', '31-40', '41-50', '51-60', '61-70', '71-80', '81+'.\n",
    "            - A qualificação do Sócio pode ser: 'Administrador', 'Administrador Judicial', 'Diretor', 'Gerente', etc.\n",
    "            - Sócios estrangeiros são aqueles que o país não é BRASIL.\n",
    "            - O campo que \n",
    "        - SIMPLES:\n",
    "            - Os campos OPCAOPELOMEI e OPCAOPELOSIMPLES possuem os valores: 'SIM', 'NÃO'.\n",
    "        **Relacionamentos:**\n",
    "        - Uma empresa possui um CNPJBASICO e pode ter vários estabelecimentos.\n",
    "        - Apenas os estabelecimentos possuem a situação cadastral das empresas.\n",
    "        - O campo \"Ente Federativo\" está na tabela EMPRESAS.\n",
    "        \"\"\"\n",
    "\n",
    "\n",
    "query_engine = NLSQLTableQueryEngine(\n",
    "    sql_database=sql_database,\n",
    "    service_context=service_context,\n",
    "    context_str_prefix=prompt\n",
    ")\n",
    "     "
   ]
  },
  {
   "cell_type": "code",
   "execution_count": null,
   "id": "4110e157",
   "metadata": {},
   "outputs": [],
   "source": [
    "query_str = \"Quantos empresas tem sócio administrador?\"\n",
    "response = query_engine.query(query_str)\n",
    "print(response.metadata['sql_query'])"
   ]
  },
  {
   "cell_type": "code",
   "execution_count": null,
   "id": "974dc7a8",
   "metadata": {},
   "outputs": [],
   "source": [
    "result = spark.sql(response.metadata['sql_query']).collect()"
   ]
  },
  {
   "cell_type": "code",
   "execution_count": null,
   "id": "954dfc09",
   "metadata": {},
   "outputs": [],
   "source": [
    "#CARRETANDO AS TABELAS COM OS DADOS EM EM CACHE\n",
    "caminho = \"gs://dataproc-staging-us-central1-574457499229-8awbbdyx/notebooks/jupyter/DADOS/DadosProcessados/\"\n",
    "\n",
    "# Função para carregar e cachear as tabelas\n",
    "def carregar_tabela(nome_tabela):\n",
    "    arquivo = caminho + f\"{nome_tabela}.csv\"\n",
    "    df = spark.read.csv(arquivo, header=True, inferSchema=True, sep=\";\")\n",
    "    df.createOrReplaceTempView(nome_tabela)\n",
    "    spark.sql(f\"CACHE TABLE {nome_tabela}\")\n"
   ]
  },
  {
   "cell_type": "code",
   "execution_count": null,
   "id": "d059bb0f",
   "metadata": {},
   "outputs": [],
   "source": [
    "# Carregar e cachear as tabelas\n",
    "tabelas = [\"EMPRESAS\", \"ESTABELECIMENTOS\", \"CNAES\", \"SOCIOS\", \"SIMPLES\"]\n",
    "for tabela in tabelas:\n",
    "    carregar_tabela(tabela)\n"
   ]
  },
  {
   "cell_type": "code",
   "execution_count": null,
   "id": "c6f070e0",
   "metadata": {},
   "outputs": [],
   "source": [
    "# Verificar se as tabelas estão em cache\n",
    "for tabela in tabelas:\n",
    "    cache_status = spark.catalog.isCached(tabela)\n",
    "    print(f\"Tabela {tabela} está em cache: {cache_status}\")"
   ]
  },
  {
   "cell_type": "code",
   "execution_count": null,
   "id": "704366e6",
   "metadata": {},
   "outputs": [],
   "source": [
    "#Realizando uma consulta para testar\n",
    "spark.sql(\"SELECT pais, COUNT(*) AS quantidade_estabelecimentos FROM ESTABELECIMENTOS GROUP BY pais ORDER BY quantidade_estabelecimentos DESC\").show()"
   ]
  },
  {
   "cell_type": "code",
   "execution_count": null,
   "id": "05568031",
   "metadata": {},
   "outputs": [],
   "source": [
    "#Lendo o arquivo que tem as queries em Linguagem Natural\n",
    "import pandas as pd\n",
    "import time\n",
    "# Carregar o arquivo CSV\n",
    "df_queries = pd.read_csv('gs://dataproc-staging-us-central1-574457499229-8awbbdyx/notebooks/jupyter/cnpjnl2sql/queries/queries_results_spark.csv')\n",
    "\n",
    "# Inicializar as listas para armazenar os resultados e os tempos de execução do Spark\n",
    "results = []\n",
    "execution_times = []\n",
    "generated_queries = []"
   ]
  },
  {
   "cell_type": "code",
   "execution_count": null,
   "id": "e5672bc7",
   "metadata": {},
   "outputs": [],
   "source": [
    "# Adicionar colunas vazias ao DataFrame inicial\n",
    "df_queries['spark_query_result_llamma_GPT'] = None\n",
    "df_queries['spark_query_exec_time_llamma_GPT'] = None\n",
    "df_queries['query_llamma_GPT'] = None\n",
    "\n",
    "# Processar cada consulta descrita no DataFrame\n",
    "for index, row in df_queries.iterrows():\n",
    "    query_str = remove_newlines(remove_newlines2(row['description']))  # Obter a descrição da consulta\n",
    "    response = query_engine.query(query_str)\n",
    "    spark_query = remove_newlines(remove_newlines2(response.metadata['sql_query']))\n",
    "    print(row['description'])\n",
    "    valor = row['spark_query_result']\n",
    "    print(remove_newlines(remove_newlines2(spark_query)))\n",
    "    \n",
    "    try:\n",
    "        start_time = time.time()\n",
    "        result = spark.sql(spark_query).collect()\n",
    "        end_time = time.time()\n",
    "        \n",
    "        execution_time = end_time - start_time\n",
    "        \n",
    "        if result:\n",
    "            query_result = result[0][0] if result else None\n",
    "            print(result[0][0] if result else None)\n",
    "        else:\n",
    "            query_result = None\n",
    "        \n",
    "    except Exception as e:\n",
    "        print(f\"Error executing query for row {index}: {e}\")\n",
    "        query_result = None\n",
    "        execution_time = None\n",
    "    \n",
    "    # Atualizar o DataFrame com os resultados da iteração atual\n",
    "    df_queries.at[index, 'spark_query_result_llamma_GPT'] = query_result\n",
    "    df_queries.at[index, 'spark_query_exec_time_llamma_GPT'] = execution_time\n",
    "    df_queries.at[index, 'query_llamma_GPT'] = spark_query\n",
    "    \n",
    "    # Também armazenar nos arrays para possível uso posterior\n",
    "    results.append(query_result)\n",
    "    execution_times.append(execution_time)\n",
    "    generated_queries.append(spark_query)\n",
    "\n",
    "# Mostrar o DataFrame atualizado\n",
    "print(df_queries)"
   ]
  },
  {
   "cell_type": "code",
   "execution_count": null,
   "id": "3e2c84ae",
   "metadata": {},
   "outputs": [],
   "source": [
    "# Exibir o DataFrame atualizado para verificar os resultados\n",
    "pd.set_option('display.max_rows', None)\n",
    "df_queries"
   ]
  },
  {
   "cell_type": "code",
   "execution_count": null,
   "id": "f73d3893",
   "metadata": {},
   "outputs": [],
   "source": [
    "df_queries.to_csv('gs://dataproc-staging-us-central1-574457499229-8awbbdyx/notebooks/jupyter/cnpjnl2sql/queries/queries_with_spark_llama_gpt.csv', index=False)"
   ]
  },
  {
   "cell_type": "code",
   "execution_count": null,
   "id": "cd7638e4",
   "metadata": {},
   "outputs": [],
   "source": [
    "df_queries"
   ]
  }
 ],
 "metadata": {
  "kernelspec": {
   "display_name": "Python 3 (ipykernel)",
   "language": "python",
   "name": "python3"
  },
  "language_info": {
   "codemirror_mode": {
    "name": "ipython",
    "version": 3
   },
   "file_extension": ".py",
   "mimetype": "text/x-python",
   "name": "python",
   "nbconvert_exporter": "python",
   "pygments_lexer": "ipython3",
   "version": "3.11.5"
  }
 },
 "nbformat": 4,
 "nbformat_minor": 5
}
