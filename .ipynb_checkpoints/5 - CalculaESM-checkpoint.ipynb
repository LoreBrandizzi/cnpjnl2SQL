{
 "cells": [
  {
   "cell_type": "code",
   "execution_count": 1,
   "id": "49f0d5a7",
   "metadata": {},
   "outputs": [
    {
     "ename": "FileNotFoundError",
     "evalue": "[Errno 2] No such file or directory: 'queries/queries_with_spark_llama_gpt.csv'",
     "output_type": "error",
     "traceback": [
      "\u001b[1;31m---------------------------------------------------------------------------\u001b[0m",
      "\u001b[1;31mFileNotFoundError\u001b[0m                         Traceback (most recent call last)",
      "Cell \u001b[1;32mIn[1], line 4\u001b[0m\n\u001b[0;32m      1\u001b[0m \u001b[38;5;28;01mimport\u001b[39;00m \u001b[38;5;21;01mpandas\u001b[39;00m \u001b[38;5;28;01mas\u001b[39;00m \u001b[38;5;21;01mpd\u001b[39;00m\n\u001b[1;32m----> 4\u001b[0m queries \u001b[38;5;241m=\u001b[39m pd\u001b[38;5;241m.\u001b[39mread_csv(\u001b[38;5;124m'\u001b[39m\u001b[38;5;124mqueries/queries_with_spark_llama_gpt.csv\u001b[39m\u001b[38;5;124m'\u001b[39m)\n",
      "File \u001b[1;32m~\\AppData\\Local\\anaconda3\\Lib\\site-packages\\pandas\\util\\_decorators.py:211\u001b[0m, in \u001b[0;36mdeprecate_kwarg.<locals>._deprecate_kwarg.<locals>.wrapper\u001b[1;34m(*args, **kwargs)\u001b[0m\n\u001b[0;32m    209\u001b[0m     \u001b[38;5;28;01melse\u001b[39;00m:\n\u001b[0;32m    210\u001b[0m         kwargs[new_arg_name] \u001b[38;5;241m=\u001b[39m new_arg_value\n\u001b[1;32m--> 211\u001b[0m \u001b[38;5;28;01mreturn\u001b[39;00m func(\u001b[38;5;241m*\u001b[39margs, \u001b[38;5;241m*\u001b[39m\u001b[38;5;241m*\u001b[39mkwargs)\n",
      "File \u001b[1;32m~\\AppData\\Local\\anaconda3\\Lib\\site-packages\\pandas\\util\\_decorators.py:331\u001b[0m, in \u001b[0;36mdeprecate_nonkeyword_arguments.<locals>.decorate.<locals>.wrapper\u001b[1;34m(*args, **kwargs)\u001b[0m\n\u001b[0;32m    325\u001b[0m \u001b[38;5;28;01mif\u001b[39;00m \u001b[38;5;28mlen\u001b[39m(args) \u001b[38;5;241m>\u001b[39m num_allow_args:\n\u001b[0;32m    326\u001b[0m     warnings\u001b[38;5;241m.\u001b[39mwarn(\n\u001b[0;32m    327\u001b[0m         msg\u001b[38;5;241m.\u001b[39mformat(arguments\u001b[38;5;241m=\u001b[39m_format_argument_list(allow_args)),\n\u001b[0;32m    328\u001b[0m         \u001b[38;5;167;01mFutureWarning\u001b[39;00m,\n\u001b[0;32m    329\u001b[0m         stacklevel\u001b[38;5;241m=\u001b[39mfind_stack_level(),\n\u001b[0;32m    330\u001b[0m     )\n\u001b[1;32m--> 331\u001b[0m \u001b[38;5;28;01mreturn\u001b[39;00m func(\u001b[38;5;241m*\u001b[39margs, \u001b[38;5;241m*\u001b[39m\u001b[38;5;241m*\u001b[39mkwargs)\n",
      "File \u001b[1;32m~\\AppData\\Local\\anaconda3\\Lib\\site-packages\\pandas\\io\\parsers\\readers.py:950\u001b[0m, in \u001b[0;36mread_csv\u001b[1;34m(filepath_or_buffer, sep, delimiter, header, names, index_col, usecols, squeeze, prefix, mangle_dupe_cols, dtype, engine, converters, true_values, false_values, skipinitialspace, skiprows, skipfooter, nrows, na_values, keep_default_na, na_filter, verbose, skip_blank_lines, parse_dates, infer_datetime_format, keep_date_col, date_parser, dayfirst, cache_dates, iterator, chunksize, compression, thousands, decimal, lineterminator, quotechar, quoting, doublequote, escapechar, comment, encoding, encoding_errors, dialect, error_bad_lines, warn_bad_lines, on_bad_lines, delim_whitespace, low_memory, memory_map, float_precision, storage_options)\u001b[0m\n\u001b[0;32m    935\u001b[0m kwds_defaults \u001b[38;5;241m=\u001b[39m _refine_defaults_read(\n\u001b[0;32m    936\u001b[0m     dialect,\n\u001b[0;32m    937\u001b[0m     delimiter,\n\u001b[1;32m   (...)\u001b[0m\n\u001b[0;32m    946\u001b[0m     defaults\u001b[38;5;241m=\u001b[39m{\u001b[38;5;124m\"\u001b[39m\u001b[38;5;124mdelimiter\u001b[39m\u001b[38;5;124m\"\u001b[39m: \u001b[38;5;124m\"\u001b[39m\u001b[38;5;124m,\u001b[39m\u001b[38;5;124m\"\u001b[39m},\n\u001b[0;32m    947\u001b[0m )\n\u001b[0;32m    948\u001b[0m kwds\u001b[38;5;241m.\u001b[39mupdate(kwds_defaults)\n\u001b[1;32m--> 950\u001b[0m \u001b[38;5;28;01mreturn\u001b[39;00m _read(filepath_or_buffer, kwds)\n",
      "File \u001b[1;32m~\\AppData\\Local\\anaconda3\\Lib\\site-packages\\pandas\\io\\parsers\\readers.py:605\u001b[0m, in \u001b[0;36m_read\u001b[1;34m(filepath_or_buffer, kwds)\u001b[0m\n\u001b[0;32m    602\u001b[0m _validate_names(kwds\u001b[38;5;241m.\u001b[39mget(\u001b[38;5;124m\"\u001b[39m\u001b[38;5;124mnames\u001b[39m\u001b[38;5;124m\"\u001b[39m, \u001b[38;5;28;01mNone\u001b[39;00m))\n\u001b[0;32m    604\u001b[0m \u001b[38;5;66;03m# Create the parser.\u001b[39;00m\n\u001b[1;32m--> 605\u001b[0m parser \u001b[38;5;241m=\u001b[39m TextFileReader(filepath_or_buffer, \u001b[38;5;241m*\u001b[39m\u001b[38;5;241m*\u001b[39mkwds)\n\u001b[0;32m    607\u001b[0m \u001b[38;5;28;01mif\u001b[39;00m chunksize \u001b[38;5;129;01mor\u001b[39;00m iterator:\n\u001b[0;32m    608\u001b[0m     \u001b[38;5;28;01mreturn\u001b[39;00m parser\n",
      "File \u001b[1;32m~\\AppData\\Local\\anaconda3\\Lib\\site-packages\\pandas\\io\\parsers\\readers.py:1442\u001b[0m, in \u001b[0;36mTextFileReader.__init__\u001b[1;34m(self, f, engine, **kwds)\u001b[0m\n\u001b[0;32m   1439\u001b[0m     \u001b[38;5;28mself\u001b[39m\u001b[38;5;241m.\u001b[39moptions[\u001b[38;5;124m\"\u001b[39m\u001b[38;5;124mhas_index_names\u001b[39m\u001b[38;5;124m\"\u001b[39m] \u001b[38;5;241m=\u001b[39m kwds[\u001b[38;5;124m\"\u001b[39m\u001b[38;5;124mhas_index_names\u001b[39m\u001b[38;5;124m\"\u001b[39m]\n\u001b[0;32m   1441\u001b[0m \u001b[38;5;28mself\u001b[39m\u001b[38;5;241m.\u001b[39mhandles: IOHandles \u001b[38;5;241m|\u001b[39m \u001b[38;5;28;01mNone\u001b[39;00m \u001b[38;5;241m=\u001b[39m \u001b[38;5;28;01mNone\u001b[39;00m\n\u001b[1;32m-> 1442\u001b[0m \u001b[38;5;28mself\u001b[39m\u001b[38;5;241m.\u001b[39m_engine \u001b[38;5;241m=\u001b[39m \u001b[38;5;28mself\u001b[39m\u001b[38;5;241m.\u001b[39m_make_engine(f, \u001b[38;5;28mself\u001b[39m\u001b[38;5;241m.\u001b[39mengine)\n",
      "File \u001b[1;32m~\\AppData\\Local\\anaconda3\\Lib\\site-packages\\pandas\\io\\parsers\\readers.py:1735\u001b[0m, in \u001b[0;36mTextFileReader._make_engine\u001b[1;34m(self, f, engine)\u001b[0m\n\u001b[0;32m   1733\u001b[0m     \u001b[38;5;28;01mif\u001b[39;00m \u001b[38;5;124m\"\u001b[39m\u001b[38;5;124mb\u001b[39m\u001b[38;5;124m\"\u001b[39m \u001b[38;5;129;01mnot\u001b[39;00m \u001b[38;5;129;01min\u001b[39;00m mode:\n\u001b[0;32m   1734\u001b[0m         mode \u001b[38;5;241m+\u001b[39m\u001b[38;5;241m=\u001b[39m \u001b[38;5;124m\"\u001b[39m\u001b[38;5;124mb\u001b[39m\u001b[38;5;124m\"\u001b[39m\n\u001b[1;32m-> 1735\u001b[0m \u001b[38;5;28mself\u001b[39m\u001b[38;5;241m.\u001b[39mhandles \u001b[38;5;241m=\u001b[39m get_handle(\n\u001b[0;32m   1736\u001b[0m     f,\n\u001b[0;32m   1737\u001b[0m     mode,\n\u001b[0;32m   1738\u001b[0m     encoding\u001b[38;5;241m=\u001b[39m\u001b[38;5;28mself\u001b[39m\u001b[38;5;241m.\u001b[39moptions\u001b[38;5;241m.\u001b[39mget(\u001b[38;5;124m\"\u001b[39m\u001b[38;5;124mencoding\u001b[39m\u001b[38;5;124m\"\u001b[39m, \u001b[38;5;28;01mNone\u001b[39;00m),\n\u001b[0;32m   1739\u001b[0m     compression\u001b[38;5;241m=\u001b[39m\u001b[38;5;28mself\u001b[39m\u001b[38;5;241m.\u001b[39moptions\u001b[38;5;241m.\u001b[39mget(\u001b[38;5;124m\"\u001b[39m\u001b[38;5;124mcompression\u001b[39m\u001b[38;5;124m\"\u001b[39m, \u001b[38;5;28;01mNone\u001b[39;00m),\n\u001b[0;32m   1740\u001b[0m     memory_map\u001b[38;5;241m=\u001b[39m\u001b[38;5;28mself\u001b[39m\u001b[38;5;241m.\u001b[39moptions\u001b[38;5;241m.\u001b[39mget(\u001b[38;5;124m\"\u001b[39m\u001b[38;5;124mmemory_map\u001b[39m\u001b[38;5;124m\"\u001b[39m, \u001b[38;5;28;01mFalse\u001b[39;00m),\n\u001b[0;32m   1741\u001b[0m     is_text\u001b[38;5;241m=\u001b[39mis_text,\n\u001b[0;32m   1742\u001b[0m     errors\u001b[38;5;241m=\u001b[39m\u001b[38;5;28mself\u001b[39m\u001b[38;5;241m.\u001b[39moptions\u001b[38;5;241m.\u001b[39mget(\u001b[38;5;124m\"\u001b[39m\u001b[38;5;124mencoding_errors\u001b[39m\u001b[38;5;124m\"\u001b[39m, \u001b[38;5;124m\"\u001b[39m\u001b[38;5;124mstrict\u001b[39m\u001b[38;5;124m\"\u001b[39m),\n\u001b[0;32m   1743\u001b[0m     storage_options\u001b[38;5;241m=\u001b[39m\u001b[38;5;28mself\u001b[39m\u001b[38;5;241m.\u001b[39moptions\u001b[38;5;241m.\u001b[39mget(\u001b[38;5;124m\"\u001b[39m\u001b[38;5;124mstorage_options\u001b[39m\u001b[38;5;124m\"\u001b[39m, \u001b[38;5;28;01mNone\u001b[39;00m),\n\u001b[0;32m   1744\u001b[0m )\n\u001b[0;32m   1745\u001b[0m \u001b[38;5;28;01massert\u001b[39;00m \u001b[38;5;28mself\u001b[39m\u001b[38;5;241m.\u001b[39mhandles \u001b[38;5;129;01mis\u001b[39;00m \u001b[38;5;129;01mnot\u001b[39;00m \u001b[38;5;28;01mNone\u001b[39;00m\n\u001b[0;32m   1746\u001b[0m f \u001b[38;5;241m=\u001b[39m \u001b[38;5;28mself\u001b[39m\u001b[38;5;241m.\u001b[39mhandles\u001b[38;5;241m.\u001b[39mhandle\n",
      "File \u001b[1;32m~\\AppData\\Local\\anaconda3\\Lib\\site-packages\\pandas\\io\\common.py:856\u001b[0m, in \u001b[0;36mget_handle\u001b[1;34m(path_or_buf, mode, encoding, compression, memory_map, is_text, errors, storage_options)\u001b[0m\n\u001b[0;32m    851\u001b[0m \u001b[38;5;28;01melif\u001b[39;00m \u001b[38;5;28misinstance\u001b[39m(handle, \u001b[38;5;28mstr\u001b[39m):\n\u001b[0;32m    852\u001b[0m     \u001b[38;5;66;03m# Check whether the filename is to be opened in binary mode.\u001b[39;00m\n\u001b[0;32m    853\u001b[0m     \u001b[38;5;66;03m# Binary mode does not support 'encoding' and 'newline'.\u001b[39;00m\n\u001b[0;32m    854\u001b[0m     \u001b[38;5;28;01mif\u001b[39;00m ioargs\u001b[38;5;241m.\u001b[39mencoding \u001b[38;5;129;01mand\u001b[39;00m \u001b[38;5;124m\"\u001b[39m\u001b[38;5;124mb\u001b[39m\u001b[38;5;124m\"\u001b[39m \u001b[38;5;129;01mnot\u001b[39;00m \u001b[38;5;129;01min\u001b[39;00m ioargs\u001b[38;5;241m.\u001b[39mmode:\n\u001b[0;32m    855\u001b[0m         \u001b[38;5;66;03m# Encoding\u001b[39;00m\n\u001b[1;32m--> 856\u001b[0m         handle \u001b[38;5;241m=\u001b[39m \u001b[38;5;28mopen\u001b[39m(\n\u001b[0;32m    857\u001b[0m             handle,\n\u001b[0;32m    858\u001b[0m             ioargs\u001b[38;5;241m.\u001b[39mmode,\n\u001b[0;32m    859\u001b[0m             encoding\u001b[38;5;241m=\u001b[39mioargs\u001b[38;5;241m.\u001b[39mencoding,\n\u001b[0;32m    860\u001b[0m             errors\u001b[38;5;241m=\u001b[39merrors,\n\u001b[0;32m    861\u001b[0m             newline\u001b[38;5;241m=\u001b[39m\u001b[38;5;124m\"\u001b[39m\u001b[38;5;124m\"\u001b[39m,\n\u001b[0;32m    862\u001b[0m         )\n\u001b[0;32m    863\u001b[0m     \u001b[38;5;28;01melse\u001b[39;00m:\n\u001b[0;32m    864\u001b[0m         \u001b[38;5;66;03m# Binary mode\u001b[39;00m\n\u001b[0;32m    865\u001b[0m         handle \u001b[38;5;241m=\u001b[39m \u001b[38;5;28mopen\u001b[39m(handle, ioargs\u001b[38;5;241m.\u001b[39mmode)\n",
      "\u001b[1;31mFileNotFoundError\u001b[0m: [Errno 2] No such file or directory: 'queries/queries_with_spark_llama_gpt.csv'"
     ]
    }
   ],
   "source": [
    "import pandas as pd\n",
    "\n",
    "\n",
    "queries = pd.read_csv('queries/queries_final.xlsx')\n"
   ]
  },
  {
   "cell_type": "code",
   "execution_count": null,
   "id": "a4c23712",
   "metadata": {},
   "outputs": [],
   "source": [
    "# Calcular a quantidade de False por difficulty\n",
    "counts = queries['difficulty'].value_counts()\n",
    "# Criar um DataFrame com os resultados\n",
    "counts = counts.reset_index()\n",
    "counts.columns = ['Nível de Dificuldade', 'Quantidade de queries']"
   ]
  },
  {
   "cell_type": "code",
   "execution_count": null,
   "id": "68352a01",
   "metadata": {},
   "outputs": [],
   "source": [
    "counts"
   ]
  },
  {
   "cell_type": "code",
   "execution_count": null,
   "id": "8d2630b2",
   "metadata": {},
   "outputs": [],
   "source": [
    "import re\n",
    "\n",
    "# Função para eliminar os textos especificados de uma frase\n",
    "def eliminar_textos_longos(frase):\n",
    "    # Textos a serem eliminados\n",
    "    textos_a_eliminar = [\n",
    "        \"TOTAL_SOCIOS ELIMINAR\",\n",
    "        \"TOTAL_SOCIOS_COM_PAIS\",\n",
    "        \"TOTAL_SOCIOS_DIRETOR\",\n",
    "        \"TOTAL_SOCIOS_PRESIDENTE\",\n",
    "        \"TOTAL_SOCIOS_QUALIFICADOS\",\n",
    "        \"TOTAL_SOCIOS\",\n",
    "        \"TOTAL_EMPRESAS\",\n",
    "        \"QTD_SOCIOS\",  \n",
    "        \"TOTAL_ESTABELECIMENTOS\",\n",
    "        \"_ADMINISTRADORES\",\n",
    "        \"_COM_NOME\",\n",
    "        \"_FAIXA_ETARIA\",        \n",
    "        \"SELECT\",\n",
    "        '\\\"PUBLIC\\\"',\n",
    "        'PUBLIC',\n",
    "        \"UPPER\",\n",
    "        \"TOTAL\"\n",
    "    ]\n",
    "    \n",
    "    # Eliminar os textos da frase\n",
    "    for texto in textos_a_eliminar:\n",
    "        frase = frase.replace(texto, \"\")\n",
    "\n",
    "    \n",
    "    return frase\n",
    "\n",
    "def eliminar_textos_curtos(frase):\n",
    "    # Textos a serem eliminados\n",
    "    textos_a_eliminar = [\n",
    "        \" AS \", \";\", \" EM \", '\"',\"'\",\" EST \",\" S \",\" SIM \",\" EMP \",\" E \",\")\",\"(\"\n",
    "    ]\n",
    "    \n",
    "    # Eliminar os textos da frase\n",
    "    for texto in textos_a_eliminar:\n",
    "        frase = frase.replace(texto, \" \")\n",
    "        \n",
    "    return frase\n",
    "\n",
    "def substituir_espaco(frase):\n",
    "    # Textos a serem eliminados\n",
    "    textos_a_eliminar = [\n",
    "        \"(EM.\", \"(EST.\",\"(S.\",\"(SIM.\",\"(EMP.\",\"(E.\",\"EM.\", \"EST.\",\"S.\",\"SIM.\",\"EMP.\",\"E.\",\" .\"\n",
    "    ]\n",
    "    \n",
    "    # Eliminar os textos da frase\n",
    "    for texto in textos_a_eliminar:\n",
    "        frase = frase.replace(texto, \" \")\n",
    "        \n",
    "    return frase\n"
   ]
  },
  {
   "cell_type": "code",
   "execution_count": null,
   "id": "455a84ba",
   "metadata": {},
   "outputs": [],
   "source": [
    "import re\n",
    "\n",
    "def preprocessa_query(querie):\n",
    "    # Converte a consulta para letras maiúsculas\n",
    "    querie = querie.upper()\n",
    "    querie= querie.replace(\"'SIM'\", \"'POSITIVO'\")\n",
    "    querie= querie.replace(\"DATE_PART('YEAR',\", \"EXTRACT(YEAR FROM\")\n",
    "    querie= querie.replace(\"<>\", \"!=\")\n",
    "    querie = eliminar_textos_longos(querie)\n",
    "    querie = eliminar_textos_curtos(querie)\n",
    "    querie = substituir_espaco(querie)\n",
    "\n",
    "    # Divide a consulta em palavras\n",
    "    querie = querie.split()\n",
    "    return querie\n"
   ]
  },
  {
   "cell_type": "code",
   "execution_count": null,
   "id": "edbac3c5",
   "metadata": {},
   "outputs": [],
   "source": [
    "# Função para percorrer o DataFrame e comparar as consultas\n",
    "def process_and_compare_queries(df):\n",
    "    gold_querie = []\n",
    "    generated_querie = []\n",
    "    comparison_results = []\n",
    "\n",
    "    for index, row in df.iterrows():\n",
    "        gold = preprocessa_query(row['postgres_query'])\n",
    "        generated = preprocessa_query(row['query_llamma_GPT'])\n",
    "        \n",
    "        gold_querie.append(gold)\n",
    "        generated_querie.append(generated)\n",
    "        \n",
    "        # Comparar os vetores independentemente da ordem\n",
    "        if sorted(gold) == sorted(generated):\n",
    "            comparison_results.append(True)\n",
    "        else:\n",
    "            comparison_results.append(False)\n",
    "    \n",
    "    df['gold_querie'] = gold_querie\n",
    "    df['generated_querie'] = generated_querie\n",
    "    df['comparison_results'] = comparison_results\n",
    "\n",
    "    return df\n",
    "\n",
    "queries = process_and_compare_queries(queries)"
   ]
  },
  {
   "cell_type": "code",
   "execution_count": null,
   "id": "445c4d76",
   "metadata": {},
   "outputs": [],
   "source": [
    "pd.set_option('display.max_rows', None)\n",
    "pd.set_option('display.max_columns', None)\n",
    "pd.set_option('display.max_colwidth', None)\n",
    "pd.set_option('display.width', None)\n",
    "\n",
    "queries_true = queries[queries['comparison_results'] == True]\n",
    "\n",
    "# Display the filtered DataFram\n",
    "queries_true"
   ]
  },
  {
   "cell_type": "code",
   "execution_count": null,
   "id": "ae9b266e",
   "metadata": {},
   "outputs": [],
   "source": [
    "queries.to_csv('queries/queries_final.csv')"
   ]
  },
  {
   "cell_type": "code",
   "execution_count": null,
   "id": "05c4b174",
   "metadata": {},
   "outputs": [],
   "source": [
    "# Filtrar as colunas 'difficulty' e 'comparison_results'\n",
    "filtered_df = queries[['difficulty', 'comparison_results']]\n",
    "filtered_df = filtered_df[queries['difficulty'] != 'Extra Hard']\n",
    "\n",
    "# Calcular a quantidade de False por difficulty\n",
    "false_counts = filtered_df[filtered_df['comparison_results'] == False]['difficulty'].value_counts()\n",
    "true_counts = filtered_df[filtered_df['comparison_results'] == True]['difficulty'].value_counts()\n",
    "percent_true = (true_counts*100)/(true_counts+false_counts)\n",
    "\n",
    "# Criar um DataFrame com os resultados\n",
    "false_counts_df = false_counts.reset_index()\n",
    "false_counts_df.columns = ['difficulty', 'false_counts']\n",
    "\n",
    "# Exibir a tabela\n",
    "false_counts_df"
   ]
  },
  {
   "cell_type": "code",
   "execution_count": null,
   "id": "17ddb00d",
   "metadata": {},
   "outputs": [],
   "source": [
    "true_counts_df = true_counts.reset_index()\n",
    "true_counts_df.columns = ['difficulty', 'true_counts']\n",
    "true_counts"
   ]
  },
  {
   "cell_type": "code",
   "execution_count": null,
   "id": "13400dc2",
   "metadata": {},
   "outputs": [],
   "source": [
    "percent_true_counts_df = percent_true.reset_index()\n",
    "percent_true_counts_df.columns = ['difficulty', 'true_counts']\n",
    "percent_true"
   ]
  },
  {
   "cell_type": "code",
   "execution_count": null,
   "id": "858e4372",
   "metadata": {},
   "outputs": [],
   "source": [
    "# Filtrar as colunas 'difficulty' e 'comparison_results'\n",
    "filtered_df = queries[['explanation', 'comparison_results']]\n",
    "filtered_df = filtered_df[queries['explanation'] != 'Extra Hard']\n",
    "# Calcular a quantidade de False por difficulty\n",
    "false_counts = filtered_df[filtered_df['comparison_results'] == False]['explanation'].value_counts()\n",
    "true_counts = filtered_df[filtered_df['comparison_results'] == True]['explanation'].value_counts()\n",
    "true_counts_df = true_counts.reset_index()\n",
    "true_counts_df.columns = ['explanation', 'true_counts']\n",
    "true_counts"
   ]
  },
  {
   "cell_type": "code",
   "execution_count": null,
   "id": "f2f0e2d9",
   "metadata": {},
   "outputs": [],
   "source": [
    "# Criar um DataFrame com os resultados\n",
    "false_counts_df = false_counts.reset_index()\n",
    "false_counts_df.columns = ['difficulty', 'false_counts']\n",
    "\n",
    "# Exibir a tabela\n",
    "false_counts_df"
   ]
  },
  {
   "cell_type": "code",
   "execution_count": null,
   "id": "011bae89",
   "metadata": {},
   "outputs": [],
   "source": []
  }
 ],
 "metadata": {
  "kernelspec": {
   "display_name": "Python 3 (ipykernel)",
   "language": "python",
   "name": "python3"
  },
  "language_info": {
   "codemirror_mode": {
    "name": "ipython",
    "version": 3
   },
   "file_extension": ".py",
   "mimetype": "text/x-python",
   "name": "python",
   "nbconvert_exporter": "python",
   "pygments_lexer": "ipython3",
   "version": "3.11.5"
  }
 },
 "nbformat": 4,
 "nbformat_minor": 5
}
